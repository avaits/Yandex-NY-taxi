{
 "cells": [
  {
   "cell_type": "code",
   "execution_count": 1,
   "metadata": {},
   "outputs": [
    {
     "name": "stdout",
     "output_type": "stream",
     "text": [
      "Populating the interactive namespace from numpy and matplotlib\n"
     ]
    }
   ],
   "source": [
    "import pandas as pd\n",
    "import numpy as np\n",
    "from scipy.stats import binned_statistic_2d\n",
    "%pylab inline\n",
    "from scipy import stats\n",
    "import statsmodels.api as sm\n",
    "import matplotlib.pyplot as plt\n",
    "import warnings\n",
    "from itertools import product"
   ]
  },
  {
   "cell_type": "code",
   "execution_count": 2,
   "metadata": {},
   "outputs": [],
   "source": [
    "d = [\"yellow_tripdata_2016-05.csv\", \"yellow_tripdata_2016-04.csv\", \"yellow_tripdata_2016-03.csv\", \"yellow_tripdata_2016-02.csv\", \"yellow_tripdata_2016-01.csv\", \"yellow_tripdata_2015-12.csv\"]"
   ]
  },
  {
   "cell_type": "code",
   "execution_count": 3,
   "metadata": {},
   "outputs": [],
   "source": [
    "k= pd.date_range(start='2015-12-01 00:00:00', end= '2016-05-31 23:00:00', freq='H')\n",
    "reg= pd.read_csv(\"regions.csv\", delimiter=';')\n",
    "t = pd.DataFrame(index=range(len(k)),columns=range(len(reg.region)))\n",
    "t.columns= reg.region\n",
    "t.index= k\n",
    "t.loc[:,:] = 0"
   ]
  },
  {
   "cell_type": "code",
   "execution_count": 4,
   "metadata": {},
   "outputs": [],
   "source": [
    "x_array = pd.unique(reg.west)\n",
    "x_array.sort()\n",
    "y_array = pd.unique(reg.south)\n",
    "y_array.sort()\n",
    "x_array = np.append(x_array, reg.east[-1:].values)\n",
    "y_array = np.append(y_array, reg.north[-1:].values)"
   ]
  },
  {
   "cell_type": "code",
   "execution_count": 5,
   "metadata": {},
   "outputs": [],
   "source": [
    "da= []\n",
    "def get(dat):\n",
    "    data = pd.read_csv(str(dat))\n",
    "    data = data[data.tpep_pickup_datetime != data.tpep_dropoff_datetime]\n",
    "    data = data[data.passenger_count != 0]\n",
    "    data = data[data.trip_distance != 0]\n",
    "    data = data[data.pickup_longitude >= -74.25559]\n",
    "    data = data[data.pickup_longitude <= -73.70001]\n",
    "    data = data[data.pickup_latitude >= 40.49612]\n",
    "    data = data[data.pickup_latitude <= 40.91553]\n",
    "    data.tpep_pickup_datetime = pd.to_datetime(data.tpep_pickup_datetime)\n",
    "    data.tpep_dropoff_datetime = pd.to_datetime(data.tpep_dropoff_datetime)\n",
    "    data.tpep_pickup_datetime = data.tpep_pickup_datetime.map(lambda x: x.replace(minute=0, second=0))\n",
    "    data.tpep_dropoff_datetime = data.tpep_dropoff_datetime.map(lambda x: x.replace(minute=0, second=0))\n",
    "    a=stats.binned_statistic_2d(data.pickup_longitude, data.pickup_latitude, None, statistic = \"count\", bins = [x_array, y_array], expand_binnumbers=True)\n",
    "    data['reg'] = (a[3][0] - 1) * 50 + a[3][1]\n",
    "    for i in range(len(data)):\n",
    "        t[data.reg.iloc[i]][data.tpep_pickup_datetime.iloc[i]] += 1\n",
    "       \n",
    "    \n",
    "    \n",
    "    #da.append(data.tpep_pickup_datetime)\n",
    "    return da"
   ]
  },
  {
   "cell_type": "code",
   "execution_count": null,
   "metadata": {},
   "outputs": [
    {
     "name": "stdout",
     "output_type": "stream",
     "text": [
      "yellow_tripdata_2016-05.csv\n",
      "yellow_tripdata_2016-04.csv\n",
      "yellow_tripdata_2016-03.csv\n"
     ]
    }
   ],
   "source": [
    "%%time\n",
    "for i in range(len(d)):\n",
    "    get(d[i])\n",
    "    print(d[i])"
   ]
  },
  {
   "cell_type": "code",
   "execution_count": null,
   "metadata": {},
   "outputs": [],
   "source": [
    "data_mean = pd.DataFrame(t.iloc[3649:,:].mean(axis=0))\n",
    "data_mean = data_mean[data_mean >= 5]\n",
    "data_mean = data_mean.dropna()"
   ]
  },
  {
   "cell_type": "code",
   "execution_count": null,
   "metadata": {},
   "outputs": [],
   "source": [
    "t=t[data_mean.index]"
   ]
  },
  {
   "cell_type": "code",
   "execution_count": null,
   "metadata": {},
   "outputs": [],
   "source": [
    "t"
   ]
  },
  {
   "cell_type": "code",
   "execution_count": null,
   "metadata": {},
   "outputs": [],
   "source": [
    "t.to_csv('c6w4.csv', sep=';', index=True, index_label='index', header=True )"
   ]
  },
  {
   "cell_type": "code",
   "execution_count": null,
   "metadata": {},
   "outputs": [],
   "source": [
    "data = pd.read_csv(d[1])"
   ]
  },
  {
   "cell_type": "code",
   "execution_count": null,
   "metadata": {},
   "outputs": [],
   "source": [
    "data = data[data.tpep_pickup_datetime != data.tpep_dropoff_datetime]\n",
    "data = data[data.passenger_count != 0]"
   ]
  },
  {
   "cell_type": "code",
   "execution_count": null,
   "metadata": {},
   "outputs": [],
   "source": [
    "data"
   ]
  },
  {
   "cell_type": "code",
   "execution_count": null,
   "metadata": {},
   "outputs": [],
   "source": []
  }
 ],
 "metadata": {
  "kernelspec": {
   "display_name": "Python 3",
   "language": "python",
   "name": "python3"
  },
  "language_info": {
   "codemirror_mode": {
    "name": "ipython",
    "version": 3
   },
   "file_extension": ".py",
   "mimetype": "text/x-python",
   "name": "python",
   "nbconvert_exporter": "python",
   "pygments_lexer": "ipython3",
   "version": "3.7.3"
  }
 },
 "nbformat": 4,
 "nbformat_minor": 2
}
